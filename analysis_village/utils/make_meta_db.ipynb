{
 "cells": [
  {
   "cell_type": "code",
   "execution_count": 1,
   "metadata": {},
   "outputs": [],
   "source": [
    "import uproot\n",
    "import glob\n",
    "import sqlite3\n",
    "import numpy as np\n",
    "from tqdm import tqdm"
   ]
  },
  {
   "cell_type": "code",
   "execution_count": 2,
   "metadata": {},
   "outputs": [
    {
     "name": "stdout",
     "output_type": "stream",
     "text": [
      "number of files:  2924\n",
      "first 3 files:  ['/pnfs/sbn/data_add/sbn_nd/poms_production/data/MCP2025B_02/v10_06_00_02/DevSample/flatcaf/bnblight/e4/reco2_reco1_filtered_decoded-raw_filtered_data_EventBuilder7_art1_run18255_23_strmBNBLight_20250217T101850-e4673f61-d0de-9ed9-12d8-d45db898029c.flat.caf.root', '/pnfs/sbn/data_add/sbn_nd/poms_production/data/MCP2025B_02/v10_06_00_02/DevSample/flatcaf/bnblight/be/reco2_reco1_filtered_decoded-raw_filtered_data_EventBuilder2_art2_run18255_54_strmBNBLight_20250218T052009-be9634d2-18b0-eb7c-0e87-57a1d3c5540d.flat.caf.root', '/pnfs/sbn/data_add/sbn_nd/poms_production/data/MCP2025B_02/v10_06_00_02/DevSample/flatcaf/bnblight/ad/reco2_reco1_filtered_decoded-raw_filtered_data_EventBuilder2_p2_art2_run18255_31_strmBNBLight_20250217T152038-adee79da-9586-1ca2-f5fa-c5d522df80ae.flat.caf.root']\n"
     ]
    }
   ],
   "source": [
    "# filelist = \"/exp/sbnd/app/users/munjung/xsec/wienersvd/cafpyana/data/sample_lists/sbnd/prod_2025B/MCP2025B_fullpath.list\"\n",
    "filelist = \"/exp/sbnd/app/users/munjung/misc/filelists/data/MCP2025B_DevData.list\"\n",
    "\n",
    "with open(filelist, 'r') as f:\n",
    "    files = [line.strip() for line in f if line.strip()]\n",
    "\n",
    "print(\"number of files: \", len(files))\n",
    "print(\"first 3 files: \", files[:3])"
   ]
  },
  {
   "cell_type": "markdown",
   "metadata": {},
   "source": [
    "# Make db"
   ]
  },
  {
   "cell_type": "code",
   "execution_count": 3,
   "metadata": {},
   "outputs": [],
   "source": [
    "conn = sqlite3.connect(\"/exp/sbnd/data/users/munjung/xsec/2025B/Data_dev-meta_lookup.db\")\n",
    "cur = conn.cursor()"
   ]
  },
  {
   "cell_type": "code",
   "execution_count": 4,
   "metadata": {},
   "outputs": [
    {
     "data": {
      "text/plain": [
       "<sqlite3.Cursor at 0x7fd9bc2c8ce0>"
      ]
     },
     "execution_count": 4,
     "metadata": {},
     "output_type": "execute_result"
    }
   ],
   "source": [
    "cur.execute(\"DROP TABLE IF EXISTS lookup\")\n",
    "cur.execute(\"\"\"\n",
    "    CREATE TABLE lookup (\n",
    "        run INTEGER,\n",
    "        subrun INTEGER,\n",
    "        event INTEGER,\n",
    "        file TEXT\n",
    "    )\n",
    "\"\"\")"
   ]
  },
  {
   "cell_type": "code",
   "execution_count": null,
   "metadata": {},
   "outputs": [
    {
     "name": "stderr",
     "output_type": "stream",
     "text": [
      "100%|██████████| 924/924 [00:43<00:00, 21.05it/s]\n"
     ]
    },
    {
     "data": {
      "text/plain": [
       "<sqlite3.Cursor at 0x7fd9bc2c8ce0>"
      ]
     },
     "execution_count": 6,
     "metadata": {},
     "output_type": "execute_result"
    }
   ],
   "source": [
    "for i in range(0, len(files), 2000)[:-1]:\n",
    "    print(f\"Processing range {i} to {i + 2000}\")\n",
    "    startn = i\n",
    "    endn = i + 2000\n",
    "\n",
    "    runs = []\n",
    "    subruns = []\n",
    "    events = []\n",
    "    fnames = []\n",
    "\n",
    "    import concurrent.futures\n",
    "\n",
    "    def process_file(fname):\n",
    "        with uproot.open(fname) as caf:\n",
    "            tree = caf[\"recTree\"]\n",
    "            this_runs = tree[\"rec.hdr.run\"].array(library=\"np\")\n",
    "            this_subruns = tree[\"rec.hdr.subrun\"].array(library=\"np\")\n",
    "            this_events = tree[\"rec.hdr.evt\"].array(library=\"np\")\n",
    "            return (\n",
    "                list(this_runs),\n",
    "                list(this_subruns),\n",
    "                list(this_events),\n",
    "                [fname]*len(this_runs)\n",
    "            )\n",
    "\n",
    "    results = []\n",
    "    with concurrent.futures.ProcessPoolExecutor(max_workers=30) as executor:\n",
    "        for result in tqdm(executor.map(process_file, files[startn:endn]), total=len(files[startn:endn])):\n",
    "            results.append(result)\n",
    "\n",
    "    for this_runs, this_subruns, this_events, these_fnames in results:\n",
    "        runs.extend(this_runs)\n",
    "        subruns.extend(this_subruns)\n",
    "        events.extend(this_events)\n",
    "        fnames.extend(these_fnames)\n",
    "\n",
    "    cur.executemany(\n",
    "        \"INSERT INTO lookup (run, subrun, event, file) VALUES (?, ?, ?, ?)\",\n",
    "        zip(runs, subruns, events, fnames)\n",
    "    )"
   ]
  },
  {
   "cell_type": "code",
   "execution_count": 7,
   "metadata": {},
   "outputs": [],
   "source": [
    "conn.commit()\n",
    "conn.close()"
   ]
  },
  {
   "cell_type": "code",
   "execution_count": 129,
   "metadata": {},
   "outputs": [],
   "source": [
    "# runs = np.array(runs)\n",
    "# subruns = np.array(subruns)\n",
    "# events = np.array(events)\n",
    "# fnames = np.array(fnames)\n",
    "# fnames"
   ]
  },
  {
   "cell_type": "code",
   "execution_count": 124,
   "metadata": {},
   "outputs": [],
   "source": []
  },
  {
   "cell_type": "code",
   "execution_count": null,
   "metadata": {},
   "outputs": [],
   "source": []
  },
  {
   "cell_type": "markdown",
   "metadata": {},
   "source": [
    "# Query for filename"
   ]
  },
  {
   "cell_type": "code",
   "execution_count": 3,
   "metadata": {},
   "outputs": [],
   "source": [
    "import pandas as pd"
   ]
  },
  {
   "cell_type": "code",
   "execution_count": 4,
   "metadata": {},
   "outputs": [],
   "source": [
    "def find_files(cur, run, subrun, event):\n",
    "    def to_bytes(x):\n",
    "        if isinstance(x, int):\n",
    "            return x.to_bytes(4, byteorder='little')\n",
    "        return x\n",
    "    run = to_bytes(run)\n",
    "    subrun = to_bytes(subrun)\n",
    "    event = to_bytes(event)\n",
    "    cur.execute(\n",
    "        \"SELECT file FROM lookup WHERE run=? AND subrun=? AND event=?\",\n",
    "        (run, subrun, event)\n",
    "    )\n",
    "    return [row[0] for row in cur.fetchall()]"
   ]
  },
  {
   "cell_type": "code",
   "execution_count": 5,
   "metadata": {},
   "outputs": [],
   "source": [
    "# conn = sqlite3.connect(\"/exp/sbnd/data/users/munjung/xsec/2025B/MC_bnb_cosmics-meta_lookup.db\")\n",
    "conn = sqlite3.connect(\"/exp/sbnd/data/users/munjung/xsec/2025B/Data_dev-meta_lookup.db\")\n",
    "cur = conn.cursor()"
   ]
  },
  {
   "cell_type": "code",
   "execution_count": 6,
   "metadata": {},
   "outputs": [],
   "source": [
    "# cur.execute(\"SELECT DISTINCT run, subrun, event FROM lookup\")\n",
    "# unique_meta = cur.fetchall()\n",
    "# print(\"found {} unique meta entries\".format(len(unique_meta)))\n",
    "# for r, s, ev in unique_meta[:10]:\n",
    "#     print(r, s, ev)"
   ]
  },
  {
   "cell_type": "code",
   "execution_count": 7,
   "metadata": {},
   "outputs": [
    {
     "name": "stdout",
     "output_type": "stream",
     "text": [
      "all.csv\t\t numu_cc_np0pi_meta.csv  nu_other_meta.csv\n",
      "cosmic_meta.csv  numu_cc_other_meta.csv  nu_outfv_meta.csv\n",
      "data_meta.csv\t numu_nc_meta.csv\t signal_meta.csv\n"
     ]
    }
   ],
   "source": [
    "!ls event_list"
   ]
  },
  {
   "cell_type": "code",
   "execution_count": 6,
   "metadata": {},
   "outputs": [],
   "source": [
    "# find_files(cur, 3998, 67, 14)[0].split(\"/\")[-1]"
   ]
  },
  {
   "cell_type": "code",
   "execution_count": 7,
   "metadata": {},
   "outputs": [
    {
     "name": "stdout",
     "output_type": "stream",
     "text": [
      "18255 1 143434\n",
      "reco2_reco1_filtered_decoded-raw_filtered_data_EventBuilder7_art1_run18255_18_strmBNBLight_20250217T070400-36039bb5-f26c-7f30-4f10-5373fbd32bac.flat.caf.root\n",
      "18345 1 468552\n",
      "reco2_reco1_filtered_decoded-raw_filtered_data_EventBuilder3_p2_art2_run18345_58_strmBNBLight_20250324T045208-bd443937-99e9-3423-a6f3-36d22e7b6621.flat.caf.root\n",
      "18345 1 468552\n",
      "reco2_reco1_filtered_decoded-raw_filtered_data_EventBuilder3_p2_art2_run18345_58_strmBNBLight_20250324T045208-bd443937-99e9-3423-a6f3-36d22e7b6621.flat.caf.root\n",
      "18255 1 500859\n",
      "reco2_reco1_filtered_decoded-raw_filtered_data_EventBuilder3_p2_art2_run18255_64_strmBNBLight_20250218T115554-5a58f92b-59bf-cc5d-8ef9-fa9f85235e34.flat.caf.root\n",
      "18268 1 77337\n",
      "reco2_reco1_filtered_decoded-raw_filtered_data_EventBuilder3_p2_art2_run18268_10_strmBNBLight_20250224T212651-f7d7e148-ae4f-4615-82c8-484e9429ee27.flat.caf.root\n",
      "18268 1 77337\n",
      "reco2_reco1_filtered_decoded-raw_filtered_data_EventBuilder3_p2_art2_run18268_10_strmBNBLight_20250224T212651-f7d7e148-ae4f-4615-82c8-484e9429ee27.flat.caf.root\n",
      "18255 1 365125\n",
      "reco2_reco1_filtered_decoded-raw_filtered_data_EventBuilder3_art2_run18255_45_strmBNBLight_20250218T004331-ad83e526-35d6-1301-6e45-13ceddc60b67.flat.caf.root\n",
      "18255 1 292384\n",
      "reco2_reco1_filtered_decoded-raw_filtered_data_EventBuilder6_art1_run18255_36_strmBNBLight_20250217T183204-fe0e63c1-5d05-5d79-be62-e01a43d2f5a2.flat.caf.root\n",
      "18259 1 27524\n",
      "reco2_reco1_filtered_decoded-raw_filtered_data_EventBuilder3_art2_run18259_3_strmBNBLight_20250219T005005-f34d5a66-bc83-b772-dc31-ac51f69fe788.flat.caf.root\n",
      "18255 1 182517\n",
      "reco2_reco1_filtered_decoded-raw_filtered_data_EventBuilder7_art2_run18255_23_strmBNBLight_20250217T093133-4f7d2c34-e568-056e-6d4a-4c80a667e5f9.flat.caf.root\n"
     ]
    }
   ],
   "source": [
    "# meta_csv = \"event_list/numu_nc_meta.csv\"\n",
    "meta_csv = \"event_list/data_meta.csv\"\n",
    "df = pd.read_csv(meta_csv)\n",
    "\n",
    "for i in range(10):\n",
    "    this_run = int(df.loc[i].run)\n",
    "    this_subrun = int(df.loc[i].subrun)\n",
    "    this_evt = int(df.loc[i].evt)\n",
    "    print(this_run, this_subrun, this_evt)\n",
    "    print(find_files(cur, this_run, this_subrun, this_evt)[0].split(\"/\")[-1])"
   ]
  },
  {
   "cell_type": "code",
   "execution_count": null,
   "metadata": {},
   "outputs": [],
   "source": []
  }
 ],
 "metadata": {
  "kernelspec": {
   "display_name": "venv_py39_cafpyana",
   "language": "python",
   "name": "python3"
  },
  "language_info": {
   "codemirror_mode": {
    "name": "ipython",
    "version": 3
   },
   "file_extension": ".py",
   "mimetype": "text/x-python",
   "name": "python",
   "nbconvert_exporter": "python",
   "pygments_lexer": "ipython3",
   "version": "3.9.15"
  }
 },
 "nbformat": 4,
 "nbformat_minor": 2
}
